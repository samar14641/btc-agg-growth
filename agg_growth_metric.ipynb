{
 "cells": [
  {
   "cell_type": "code",
   "execution_count": 1,
   "metadata": {},
   "outputs": [],
   "source": [
    "import matplotlib.pyplot as plt\n",
    "import numpy as np\n",
    "import os\n",
    "import pandas as pd\n",
    "import seaborn as sns"
   ]
  },
  {
   "cell_type": "code",
   "execution_count": 2,
   "metadata": {},
   "outputs": [
    {
     "data": {
      "text/plain": [
       "(4568, 140)"
      ]
     },
     "execution_count": 2,
     "metadata": {},
     "output_type": "execute_result"
    }
   ],
   "source": [
    "df = pd.read_csv(os.getcwd() + '/Data/btc.csv')\n",
    "df.shape"
   ]
  },
  {
   "cell_type": "code",
   "execution_count": 3,
   "metadata": {},
   "outputs": [
    {
     "data": {
      "text/html": [
       "<div>\n",
       "<style scoped>\n",
       "    .dataframe tbody tr th:only-of-type {\n",
       "        vertical-align: middle;\n",
       "    }\n",
       "\n",
       "    .dataframe tbody tr th {\n",
       "        vertical-align: top;\n",
       "    }\n",
       "\n",
       "    .dataframe thead th {\n",
       "        text-align: right;\n",
       "    }\n",
       "</style>\n",
       "<table border=\"1\" class=\"dataframe\">\n",
       "  <thead>\n",
       "    <tr style=\"text-align: right;\">\n",
       "      <th></th>\n",
       "      <th>date</th>\n",
       "      <th>AdrActCnt</th>\n",
       "      <th>AdrBal1in100KCnt</th>\n",
       "      <th>AdrBal1in100MCnt</th>\n",
       "      <th>AdrBal1in10BCnt</th>\n",
       "      <th>AdrBal1in10KCnt</th>\n",
       "      <th>AdrBal1in10MCnt</th>\n",
       "      <th>AdrBal1in1BCnt</th>\n",
       "      <th>AdrBal1in1KCnt</th>\n",
       "      <th>AdrBal1in1MCnt</th>\n",
       "      <th>...</th>\n",
       "      <th>TxTfrCnt</th>\n",
       "      <th>TxTfrValAdjNtv</th>\n",
       "      <th>TxTfrValAdjUSD</th>\n",
       "      <th>TxTfrValMeanNtv</th>\n",
       "      <th>TxTfrValMeanUSD</th>\n",
       "      <th>TxTfrValMedNtv</th>\n",
       "      <th>TxTfrValMedUSD</th>\n",
       "      <th>VelCur1yr</th>\n",
       "      <th>VtyDayRet180d</th>\n",
       "      <th>VtyDayRet30d</th>\n",
       "    </tr>\n",
       "  </thead>\n",
       "  <tbody>\n",
       "    <tr>\n",
       "      <th>4563</th>\n",
       "      <td>2021-07-02</td>\n",
       "      <td>809016</td>\n",
       "      <td>9350</td>\n",
       "      <td>2208096</td>\n",
       "      <td>16047842</td>\n",
       "      <td>1076</td>\n",
       "      <td>467134</td>\n",
       "      <td>6740169</td>\n",
       "      <td>48</td>\n",
       "      <td>99721</td>\n",
       "      <td>...</td>\n",
       "      <td>627111</td>\n",
       "      <td>295299.192460</td>\n",
       "      <td>9.976077e+09</td>\n",
       "      <td>0.937622</td>\n",
       "      <td>31675.633215</td>\n",
       "      <td>0.005090</td>\n",
       "      <td>171.955195</td>\n",
       "      <td>11.589896</td>\n",
       "      <td>0.047383</td>\n",
       "      <td>0.050807</td>\n",
       "    </tr>\n",
       "    <tr>\n",
       "      <th>4564</th>\n",
       "      <td>2021-07-03</td>\n",
       "      <td>1027108</td>\n",
       "      <td>9343</td>\n",
       "      <td>2208198</td>\n",
       "      <td>15922411</td>\n",
       "      <td>1076</td>\n",
       "      <td>467292</td>\n",
       "      <td>6724192</td>\n",
       "      <td>48</td>\n",
       "      <td>99656</td>\n",
       "      <td>...</td>\n",
       "      <td>700266</td>\n",
       "      <td>141134.301445</td>\n",
       "      <td>4.881585e+09</td>\n",
       "      <td>0.574656</td>\n",
       "      <td>19876.316817</td>\n",
       "      <td>0.003535</td>\n",
       "      <td>122.265914</td>\n",
       "      <td>11.582681</td>\n",
       "      <td>0.047292</td>\n",
       "      <td>0.050420</td>\n",
       "    </tr>\n",
       "    <tr>\n",
       "      <th>4565</th>\n",
       "      <td>2021-07-04</td>\n",
       "      <td>843475</td>\n",
       "      <td>9349</td>\n",
       "      <td>2206856</td>\n",
       "      <td>15835818</td>\n",
       "      <td>1075</td>\n",
       "      <td>467194</td>\n",
       "      <td>6707328</td>\n",
       "      <td>48</td>\n",
       "      <td>99632</td>\n",
       "      <td>...</td>\n",
       "      <td>529255</td>\n",
       "      <td>136087.309361</td>\n",
       "      <td>4.811450e+09</td>\n",
       "      <td>0.883479</td>\n",
       "      <td>31235.925922</td>\n",
       "      <td>0.003720</td>\n",
       "      <td>131.536296</td>\n",
       "      <td>11.563401</td>\n",
       "      <td>0.047055</td>\n",
       "      <td>0.049506</td>\n",
       "    </tr>\n",
       "    <tr>\n",
       "      <th>4566</th>\n",
       "      <td>2021-07-05</td>\n",
       "      <td>902032</td>\n",
       "      <td>9351</td>\n",
       "      <td>2206469</td>\n",
       "      <td>15789347</td>\n",
       "      <td>1076</td>\n",
       "      <td>467213</td>\n",
       "      <td>6699639</td>\n",
       "      <td>48</td>\n",
       "      <td>99622</td>\n",
       "      <td>...</td>\n",
       "      <td>651348</td>\n",
       "      <td>166247.950794</td>\n",
       "      <td>5.637760e+09</td>\n",
       "      <td>0.522203</td>\n",
       "      <td>17708.817433</td>\n",
       "      <td>0.004306</td>\n",
       "      <td>146.028081</td>\n",
       "      <td>11.590388</td>\n",
       "      <td>0.046827</td>\n",
       "      <td>0.049530</td>\n",
       "    </tr>\n",
       "    <tr>\n",
       "      <th>4567</th>\n",
       "      <td>2021-07-06</td>\n",
       "      <td>853332</td>\n",
       "      <td>9358</td>\n",
       "      <td>2209025</td>\n",
       "      <td>15803599</td>\n",
       "      <td>1075</td>\n",
       "      <td>467313</td>\n",
       "      <td>6698688</td>\n",
       "      <td>49</td>\n",
       "      <td>99660</td>\n",
       "      <td>...</td>\n",
       "      <td>702385</td>\n",
       "      <td>181090.983977</td>\n",
       "      <td>6.179545e+09</td>\n",
       "      <td>0.571996</td>\n",
       "      <td>19518.767813</td>\n",
       "      <td>0.004846</td>\n",
       "      <td>165.359184</td>\n",
       "      <td>11.581377</td>\n",
       "      <td>0.046550</td>\n",
       "      <td>0.049515</td>\n",
       "    </tr>\n",
       "  </tbody>\n",
       "</table>\n",
       "<p>5 rows × 140 columns</p>\n",
       "</div>"
      ],
      "text/plain": [
       "            date  AdrActCnt  AdrBal1in100KCnt  AdrBal1in100MCnt  \\\n",
       "4563  2021-07-02     809016              9350           2208096   \n",
       "4564  2021-07-03    1027108              9343           2208198   \n",
       "4565  2021-07-04     843475              9349           2206856   \n",
       "4566  2021-07-05     902032              9351           2206469   \n",
       "4567  2021-07-06     853332              9358           2209025   \n",
       "\n",
       "      AdrBal1in10BCnt  AdrBal1in10KCnt  AdrBal1in10MCnt  AdrBal1in1BCnt  \\\n",
       "4563         16047842             1076           467134         6740169   \n",
       "4564         15922411             1076           467292         6724192   \n",
       "4565         15835818             1075           467194         6707328   \n",
       "4566         15789347             1076           467213         6699639   \n",
       "4567         15803599             1075           467313         6698688   \n",
       "\n",
       "      AdrBal1in1KCnt  AdrBal1in1MCnt  ...  TxTfrCnt  TxTfrValAdjNtv  \\\n",
       "4563              48           99721  ...    627111   295299.192460   \n",
       "4564              48           99656  ...    700266   141134.301445   \n",
       "4565              48           99632  ...    529255   136087.309361   \n",
       "4566              48           99622  ...    651348   166247.950794   \n",
       "4567              49           99660  ...    702385   181090.983977   \n",
       "\n",
       "      TxTfrValAdjUSD  TxTfrValMeanNtv  TxTfrValMeanUSD  TxTfrValMedNtv  \\\n",
       "4563    9.976077e+09         0.937622     31675.633215        0.005090   \n",
       "4564    4.881585e+09         0.574656     19876.316817        0.003535   \n",
       "4565    4.811450e+09         0.883479     31235.925922        0.003720   \n",
       "4566    5.637760e+09         0.522203     17708.817433        0.004306   \n",
       "4567    6.179545e+09         0.571996     19518.767813        0.004846   \n",
       "\n",
       "      TxTfrValMedUSD  VelCur1yr  VtyDayRet180d  VtyDayRet30d  \n",
       "4563      171.955195  11.589896       0.047383      0.050807  \n",
       "4564      122.265914  11.582681       0.047292      0.050420  \n",
       "4565      131.536296  11.563401       0.047055      0.049506  \n",
       "4566      146.028081  11.590388       0.046827      0.049530  \n",
       "4567      165.359184  11.581377       0.046550      0.049515  \n",
       "\n",
       "[5 rows x 140 columns]"
      ]
     },
     "execution_count": 3,
     "metadata": {},
     "output_type": "execute_result"
    }
   ],
   "source": [
    "df.tail()"
   ]
  },
  {
   "cell_type": "code",
   "execution_count": 5,
   "metadata": {},
   "outputs": [],
   "source": [
    "df['date'] = pd.to_datetime(df['date'])  # convert date from object to timestamp\n",
    "\n",
    "df = df.reset_index(drop = True).set_index('date')  # set date as dataframe index"
   ]
  },
  {
   "cell_type": "code",
   "execution_count": 7,
   "metadata": {},
   "outputs": [
    {
     "data": {
      "text/plain": [
       "(3109, 139)"
      ]
     },
     "execution_count": 7,
     "metadata": {},
     "output_type": "execute_result"
    }
   ],
   "source": [
    "df = df['2013' :]\n",
    "df.shape"
   ]
  },
  {
   "cell_type": "markdown",
   "metadata": {},
   "source": [
    "Reasons for filtering data:\n",
    "\n",
    "1. abc\n",
    "\n",
    "2. xyz"
   ]
  },
  {
   "cell_type": "code",
   "execution_count": 9,
   "metadata": {},
   "outputs": [
    {
     "data": {
      "text/html": [
       "<div>\n",
       "<style scoped>\n",
       "    .dataframe tbody tr th:only-of-type {\n",
       "        vertical-align: middle;\n",
       "    }\n",
       "\n",
       "    .dataframe tbody tr th {\n",
       "        vertical-align: top;\n",
       "    }\n",
       "\n",
       "    .dataframe thead th {\n",
       "        text-align: right;\n",
       "    }\n",
       "</style>\n",
       "<table border=\"1\" class=\"dataframe\">\n",
       "  <thead>\n",
       "    <tr style=\"text-align: right;\">\n",
       "      <th></th>\n",
       "      <th>AdrActCnt</th>\n",
       "      <th>AdrBal1in10KCnt</th>\n",
       "      <th>AdrBalCnt</th>\n",
       "      <th>CapMrktCurUSD</th>\n",
       "      <th>DiffLast</th>\n",
       "      <th>FlowInExNtv</th>\n",
       "      <th>FlowOutExNtv</th>\n",
       "      <th>HashRate</th>\n",
       "      <th>NDF</th>\n",
       "      <th>RevHashNtv</th>\n",
       "      <th>TxCnt</th>\n",
       "      <th>PriceUSD</th>\n",
       "    </tr>\n",
       "    <tr>\n",
       "      <th>date</th>\n",
       "      <th></th>\n",
       "      <th></th>\n",
       "      <th></th>\n",
       "      <th></th>\n",
       "      <th></th>\n",
       "      <th></th>\n",
       "      <th></th>\n",
       "      <th></th>\n",
       "      <th></th>\n",
       "      <th></th>\n",
       "      <th></th>\n",
       "      <th></th>\n",
       "    </tr>\n",
       "  </thead>\n",
       "  <tbody>\n",
       "    <tr>\n",
       "      <th>2013-01-01</th>\n",
       "      <td>38733</td>\n",
       "      <td>956</td>\n",
       "      <td>1083334</td>\n",
       "      <td>1.415537e+08</td>\n",
       "      <td>2.979637e+06</td>\n",
       "      <td>2025.232892</td>\n",
       "      <td>3971.570665</td>\n",
       "      <td>23.995203</td>\n",
       "      <td>0.414952</td>\n",
       "      <td>0.001966</td>\n",
       "      <td>32892</td>\n",
       "      <td>13.331371</td>\n",
       "    </tr>\n",
       "    <tr>\n",
       "      <th>2013-01-02</th>\n",
       "      <td>40911</td>\n",
       "      <td>956</td>\n",
       "      <td>1087256</td>\n",
       "      <td>1.410655e+08</td>\n",
       "      <td>2.979637e+06</td>\n",
       "      <td>6236.180677</td>\n",
       "      <td>7127.091305</td>\n",
       "      <td>22.662137</td>\n",
       "      <td>0.415285</td>\n",
       "      <td>0.001969</td>\n",
       "      <td>37619</td>\n",
       "      <td>13.280607</td>\n",
       "    </tr>\n",
       "    <tr>\n",
       "      <th>2013-01-03</th>\n",
       "      <td>52539</td>\n",
       "      <td>952</td>\n",
       "      <td>1094193</td>\n",
       "      <td>1.422188e+08</td>\n",
       "      <td>2.979637e+06</td>\n",
       "      <td>7369.853274</td>\n",
       "      <td>7211.470345</td>\n",
       "      <td>23.995203</td>\n",
       "      <td>0.414465</td>\n",
       "      <td>0.001972</td>\n",
       "      <td>43533</td>\n",
       "      <td>13.384081</td>\n",
       "    </tr>\n",
       "    <tr>\n",
       "      <th>2013-01-04</th>\n",
       "      <td>46781</td>\n",
       "      <td>952</td>\n",
       "      <td>1098470</td>\n",
       "      <td>1.429890e+08</td>\n",
       "      <td>2.979637e+06</td>\n",
       "      <td>7791.647509</td>\n",
       "      <td>6683.430401</td>\n",
       "      <td>22.662137</td>\n",
       "      <td>0.414825</td>\n",
       "      <td>0.001973</td>\n",
       "      <td>47370</td>\n",
       "      <td>13.451721</td>\n",
       "    </tr>\n",
       "    <tr>\n",
       "      <th>2013-01-05</th>\n",
       "      <td>53959</td>\n",
       "      <td>957</td>\n",
       "      <td>1105085</td>\n",
       "      <td>1.431181e+08</td>\n",
       "      <td>2.979637e+06</td>\n",
       "      <td>11248.100591</td>\n",
       "      <td>7446.787760</td>\n",
       "      <td>20.884714</td>\n",
       "      <td>0.414961</td>\n",
       "      <td>0.001971</td>\n",
       "      <td>39811</td>\n",
       "      <td>13.459407</td>\n",
       "    </tr>\n",
       "  </tbody>\n",
       "</table>\n",
       "</div>"
      ],
      "text/plain": [
       "            AdrActCnt  AdrBal1in10KCnt  AdrBalCnt  CapMrktCurUSD  \\\n",
       "date                                                               \n",
       "2013-01-01      38733              956    1083334   1.415537e+08   \n",
       "2013-01-02      40911              956    1087256   1.410655e+08   \n",
       "2013-01-03      52539              952    1094193   1.422188e+08   \n",
       "2013-01-04      46781              952    1098470   1.429890e+08   \n",
       "2013-01-05      53959              957    1105085   1.431181e+08   \n",
       "\n",
       "                DiffLast   FlowInExNtv  FlowOutExNtv   HashRate       NDF  \\\n",
       "date                                                                        \n",
       "2013-01-01  2.979637e+06   2025.232892   3971.570665  23.995203  0.414952   \n",
       "2013-01-02  2.979637e+06   6236.180677   7127.091305  22.662137  0.415285   \n",
       "2013-01-03  2.979637e+06   7369.853274   7211.470345  23.995203  0.414465   \n",
       "2013-01-04  2.979637e+06   7791.647509   6683.430401  22.662137  0.414825   \n",
       "2013-01-05  2.979637e+06  11248.100591   7446.787760  20.884714  0.414961   \n",
       "\n",
       "            RevHashNtv  TxCnt   PriceUSD  \n",
       "date                                      \n",
       "2013-01-01    0.001966  32892  13.331371  \n",
       "2013-01-02    0.001969  37619  13.280607  \n",
       "2013-01-03    0.001972  43533  13.384081  \n",
       "2013-01-04    0.001973  47370  13.451721  \n",
       "2013-01-05    0.001971  39811  13.459407  "
      ]
     },
     "execution_count": 9,
     "metadata": {},
     "output_type": "execute_result"
    }
   ],
   "source": [
    "keep = ['AdrActCnt', 'AdrBal1in10KCnt', 'AdrBalCnt', 'CapMrktCurUSD', 'DiffLast', 'FlowInExNtv', 'FlowOutExNtv', 'HashRate', 'NDF', 'RevHashNtv', 'TxCnt', 'PriceUSD']\n",
    "df = df[keep]\n",
    "\n",
    "df.head()"
   ]
  },
  {
   "cell_type": "code",
   "execution_count": 10,
   "metadata": {},
   "outputs": [],
   "source": [
    "# week_mean_priceUSD = df['PriceUSD'].resample('W').mean()  # weekly mean BTC price in USD"
   ]
  },
  {
   "cell_type": "code",
   "execution_count": 11,
   "metadata": {},
   "outputs": [],
   "source": [
    "# week_mean_priceUSD.shape"
   ]
  },
  {
   "cell_type": "code",
   "execution_count": 21,
   "metadata": {},
   "outputs": [
    {
     "data": {
      "image/png": "[encoded data removed]",
      "text/plain": [
       "<Figure size 432x288 with 1 Axes>"
      ]
     },
     "metadata": {
      "needs_background": "light"
     },
     "output_type": "display_data"
    }
   ],
   "source": [
    "plt.plot(df['2013' :].index, df['2013' :]['AdrBal1in10KCnt'])\n",
    "plt.show()\n",
    "plt.close()"
   ]
  },
  {
   "cell_type": "code",
   "execution_count": 17,
   "metadata": {},
   "outputs": [
    {
     "data": {
      "image/png": "[encoded data removed]",
      "text/plain": [
       "<Figure size 432x288 with 1 Axes>"
      ]
     },
     "metadata": {
      "needs_background": "light"
     },
     "output_type": "display_data"
    }
   ],
   "source": [
    "plt.plot(df['2013' :].index, df['2013' :]['AdrBal1in1KCnt'])  # Y axis is too small, mostly exchanges - when whales sell they buy and vv\n",
    "plt.show()\n",
    "plt.close()"
   ]
  },
  {
   "cell_type": "code",
   "execution_count": 22,
   "metadata": {},
   "outputs": [
    {
     "data": {
      "image/png": "[encoded data removed]",
      "text/plain": [
       "<Figure size 432x288 with 1 Axes>"
      ]
     },
     "metadata": {
      "needs_background": "light"
     },
     "output_type": "display_data"
    }
   ],
   "source": [
    "plt.plot(df['2013' :].index, df['2013' :]['CapRealUSD'])\n",
    "plt.show()\n",
    "plt.close()"
   ]
  }
 ],
 "metadata": {
  "kernelspec": {
   "display_name": "Python 3",
   "language": "python",
   "name": "python3"
  },
  "language_info": {
   "codemirror_mode": {
    "name": "ipython",
    "version": 3
   },
   "file_extension": ".py",
   "mimetype": "text/x-python",
   "name": "python",
   "nbconvert_exporter": "python",
   "pygments_lexer": "ipython3",
   "version": "3.8.2"
  }
 },
 "nbformat": 4,
 "nbformat_minor": 4
}
